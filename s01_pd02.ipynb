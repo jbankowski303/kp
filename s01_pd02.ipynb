# -*- coding: utf-8 -*-
"""
Created on Fri Nov 24 08:40:33 2017

@author: MSI
"""

l = [1,[2,[3,4],5],6,7,[8],9,10,[11,12,[13,14],15],16,[17,18,[[19,20,21,22,23],24],[25,26],27],28]


# 5
print(l[1][2])
# 4
print(l[1][1][1])
# 10
print(l[6])
# [[2, [3, 4], 5], 6, 7, [8]]
print(l[1:5])
# [11, [13, 14]]
print(l[7][0:3])
# 24
print(l[-1])
# 8
print(l[4][0])
# [23, 22, 21, 20, 19]
print(sorted(l[-2][-3][-2]))


import os
import os.path as op

myDir = os.getcwd()
kazio = op.join(myDir, 'D:nauka\\Tygrysek_Kazimierz')
print(kazio)
kazio2 = kazio.split(os.sep)
print(kazio2[1])


import numpy as np

ar = np.array([1,2,-3,6,7,-10,88,43,-98,17,39,45])
ar

ar = np.append(ar, [4,5,9,10,23,-14,55,13])

a = np.where( ar == 9)
print(a)

b = np.where(ar < 0)
print(b)


#doklej do wektora ar wartości [4,5,9,10,23,-14,55,13]
ar = np.append(ar, [4,5,9,10,23,-14,55,13])
#znajdz index dla wartości 9 - użyj odpowiedniej funkcji
np.where( ar == 9 )
#znajdź indeksy dla wartości mniejszych od zera - użyj odpowiedniej funkcji
np.where( ar < 0 )
#wyświetl wartości mniejsze od zera
print(ar[ar<0])
#policz średnią, zaokrąglij do jednego miejsca po przecinku
np.around(np.mean(ar,), decimals = 1)
#stwórz zmienną ar_abs, wektor wartości bezwględnych z wektora ar
ar_abs = np.absolute(ar)
#stwórz zmienną ar_p, wektor pierwiastków trzeciego stopnia z wektora ar
ar_p = np.cbrt(ar)

#zaokrąglij wektor ar_p do dwóch miejsc po przecinku
np.around(ar_p, decimals=2)
#zsumuj zaokrąglony wektor ar_p i podnieś go do kwadratu, 

#zmienną nazwij ar_sq, zmień typ tej zmiennej na liczbę całkowitą
ar_sq = np.rint(np.square(np.sum(ar_p)))