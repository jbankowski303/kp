# -*- coding: utf-8 -*-
"""
Created on Sat Nov 18 10:06:37 2017

@author: MSI
"""
name = input("Jak się nazywasz? ")
age = input("Ile masz lat? ")
print("Nazywasz się {} i masz {} lat".format(name, age))